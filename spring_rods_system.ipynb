{
 "nbformat": 4,
 "nbformat_minor": 0,
 "metadata": {
  "colab": {
   "provenance": []
  },
  "kernelspec": {
   "name": "python3",
   "display_name": "Python 3"
  },
  "language_info": {
   "name": "python"
  }
 },
 "cells": [
  {
   "cell_type": "code",
   "execution_count": 1,
   "outputs": [],
   "source": [
    "from typing import Tuple, Callable\n",
    "import numpy as np\n",
    "import matplotlib.pyplot as plt\n",
    "from scipy import optimize"
   ],
   "metadata": {
    "collapsed": false
   }
  },
  {
   "cell_type": "code",
   "execution_count": 2,
   "metadata": {
    "id": "9RcfqVF90YSB"
   },
   "outputs": [],
   "source": [
    "class SprintRodsSystemSetup:\n",
    "\n",
    "    def __init__(\n",
    "            self,\n",
    "            interval: Tuple[float, float],\n",
    "            spring_len: float,\n",
    "            nodes_num: int,\n",
    "            material_constants: Tuple[float, float],\n",
    "            spring_constants: Tuple[float, float],\n",
    "            body_forces: Callable[[np.ndarray], np.ndarray]\n",
    "    ):\n",
    "        self.left_end, self.right_end = interval\n",
    "        self.spring_len = spring_len\n",
    "        self.half_spring_len = spring_len / 2\n",
    "        self.nodes_num = nodes_num\n",
    "        self.body_forces = body_forces\n",
    "\n",
    "        self.left_domain = np.linspace(self.left_end, -self.half_spring_len, nodes_num)\n",
    "        self.right_domain = np.linspace(self.half_spring_len, self.right_end, nodes_num)\n",
    "        self.alphas = material_constants\n",
    "        self.spring_constants = spring_constants\n",
    "\n",
    "    def __call__(self, displacements: np.ndarray):\n",
    "        return self.A(displacements) / 2 + self.j(displacements) - self.f(displacements)\n",
    "\n",
    "    def A(self, displacements: np.ndarray):\n",
    "        left_displ = displacements[:self.nodes_num]\n",
    "        right_displ = displacements[self.nodes_num:]\n",
    "\n",
    "        left = np.diff(left_displ) ** 2 / np.diff(self.left_domain)\n",
    "        right = np.diff(right_displ) ** 2 / np.diff(self.right_domain)\n",
    "\n",
    "        return self.alphas[0] * np.sum(left) + self.alphas[1] * np.sum(right)\n",
    "\n",
    "    def j(self, displacements: np.ndarray):\n",
    "        left_end_displ = displacements[self.nodes_num - 1]\n",
    "        right_end_displ = displacements[self.nodes_num]\n",
    "        return self.spring_constants[0] * (right_end_displ - left_end_displ) ** 2 / 2\n",
    "\n",
    "    def f(self, displacements: np.ndarray):\n",
    "        fun_vals = self.compute_body_forces()\n",
    "\n",
    "        left_displ = displacements[:self.nodes_num]\n",
    "        right_displ = displacements[self.nodes_num:]\n",
    "\n",
    "        left = np.diff(self.left_domain) * (left_displ[1:] + left_displ[:-1]) / 2\n",
    "        right = np.diff(self.right_domain) * (right_displ[1:] + right_displ[:-1]) / 2\n",
    "\n",
    "        return np.sum(fun_vals * np.concatenate((left, right)))\n",
    "\n",
    "    def compute_body_forces(self):\n",
    "        left_centers = (self.left_domain[1:] + self.left_domain[:-1]) / 2\n",
    "        right_centers = (self.right_domain[1:] + self.right_domain[:-1]) / 2\n",
    "        centers = np.concatenate((left_centers, right_centers))\n",
    "        return self.body_forces(centers)"
   ]
  },
  {
   "cell_type": "code",
   "execution_count": 3,
   "outputs": [],
   "source": [
    "model = SprintRodsSystemSetup(\n",
    "    interval=(-1, 1),\n",
    "    spring_len=1,\n",
    "    nodes_num=10,\n",
    "    material_constants=(1, 1),\n",
    "    spring_constants=(1, 1),\n",
    "    body_forces=lambda x: 1.\n",
    ")"
   ],
   "metadata": {
    "collapsed": false
   }
  },
  {
   "cell_type": "code",
   "execution_count": 4,
   "outputs": [],
   "source": [
    "constraint = np.zeros(2 * model.nodes_num)\n",
    "constraint[model.nodes_num - 1] = 1\n",
    "constraint[model.nodes_num] = -1\n",
    "\n",
    "prevent_penetration = optimize.LinearConstraint(A=constraint, lb=-np.inf, ub=model.spring_len)"
   ],
   "metadata": {
    "collapsed": false
   }
  },
  {
   "cell_type": "code",
   "execution_count": 5,
   "outputs": [],
   "source": [
    "lower_bounds = np.full(2 * model.nodes_num, fill_value=-np.inf)\n",
    "lower_bounds[0] = 0\n",
    "lower_bounds[-1] = 0\n",
    "\n",
    "upper_bounds = np.full(2 * model.nodes_num, fill_value=np.inf)\n",
    "upper_bounds[0] = 0\n",
    "upper_bounds[-1] = 0\n",
    "\n",
    "dirichlet_boundaries = optimize.Bounds(lower_bounds, upper_bounds)"
   ],
   "metadata": {
    "collapsed": false
   }
  },
  {
   "cell_type": "code",
   "execution_count": 6,
   "outputs": [
    {
     "data": {
      "text/plain": " message: Optimization terminated successfully\n success: True\n  status: 0\n     fun: -0.04153806584323924\n       x: [ 0.000e+00  2.623e-02 ...  2.623e-02  0.000e+00]\n     nit: 10\n     jac: [       nan -3.083e-07 ... -3.073e-07        nan]\n    nfev: 206\n    njev: 10"
     },
     "execution_count": 6,
     "metadata": {},
     "output_type": "execute_result"
    }
   ],
   "source": [
    "result = optimize.minimize(fun=model, x0=np.zeros(2 * model.nodes_num), constraints=prevent_penetration, bounds=dirichlet_boundaries)\n",
    "displacements = result.x\n",
    "\n",
    "assert result.success\n",
    "result"
   ],
   "metadata": {
    "collapsed": false
   }
  },
  {
   "cell_type": "code",
   "execution_count": 7,
   "outputs": [
    {
     "data": {
      "text/plain": "<matplotlib.collections.PathCollection at 0x7fa228404b80>"
     },
     "execution_count": 7,
     "metadata": {},
     "output_type": "execute_result"
    },
    {
     "data": {
      "text/plain": "<Figure size 1000x100 with 1 Axes>",
      "image/png": "[encoded data removed]"
     },
     "metadata": {},
     "output_type": "display_data"
    }
   ],
   "source": [
    "positions = np.concatenate((\n",
    "    model.left_end + model.left_domain,\n",
    "    model.half_spring_len + model.right_domain\n",
    "))\n",
    "\n",
    "fig = plt.gcf()\n",
    "fig.set_size_inches(10, 1)\n",
    "plt.ylim(-1.5, 0.5)\n",
    "plt.scatter(x=positions, y=np.zeros(2 * model.nodes_num))\n",
    "plt.scatter(x=positions + displacements, y=np.full(2 * model.nodes_num, fill_value=-1))"
   ],
   "metadata": {
    "collapsed": false
   }
  },
  {
   "cell_type": "code",
   "execution_count": 8,
   "outputs": [
    {
     "data": {
      "text/plain": "<matplotlib.quiver.Quiver at 0x7fa226303850>"
     },
     "execution_count": 8,
     "metadata": {},
     "output_type": "execute_result"
    },
    {
     "data": {
      "text/plain": "<Figure size 1000x100 with 1 Axes>",
      "image/png": "[encoded data removed]"
     },
     "metadata": {},
     "output_type": "display_data"
    }
   ],
   "source": [
    "fig = plt.gcf()\n",
    "fig.set_size_inches(10, 1)\n",
    "plt.quiver(positions, np.zeros_like(positions), displacements, np.zeros_like(displacements), scale=6)"
   ],
   "metadata": {
    "collapsed": false
   }
  }
 ]
}
