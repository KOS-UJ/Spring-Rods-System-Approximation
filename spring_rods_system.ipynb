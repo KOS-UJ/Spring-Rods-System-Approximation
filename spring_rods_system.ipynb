{
 "nbformat": 4,
 "nbformat_minor": 0,
 "metadata": {
  "colab": {
   "provenance": []
  },
  "kernelspec": {
   "name": "python3",
   "display_name": "Python 3"
  },
  "language_info": {
   "name": "python"
  }
 },
 "cells": [
  {
   "cell_type": "markdown",
   "source": [
    "$$\n",
    "p(r) =\n",
    "\\begin{cases}\n",
    "−k_1(r − 2l) & \\text{ if } r < 2l,\\\\\n",
    "−k_2(r − 2l) & \\text{ if } r ≥ 2l\n",
    "\\end{cases}\n",
    "$$\n",
    "\n",
    "$$\n",
    "j(u, v) = −p(\\theta(u))\\theta(v)\n",
    "\\qquad \\forall u = (u_1, u_2), v = (v_1, v_2) \\in V\n",
    "$$\n",
    "\n",
    "$$\n",
    "\\int_a^{-l} \\sigma_1 (\\frac{d v_1}{d x} - \\frac{d u_1}{d x}) dx + \\int_l^b \\sigma_2 (\\frac{d v_2}{d x} - \\frac{d u_2}{d x}) dx - j(u, v) + j(u, u) \\geq (f, v-u)_V \\quad \\forall v \\in K\n",
    "$$\n",
    "\n",
    "$$\n",
    "\\int_a^{-l} \\alpha_1 \\frac{d u_1}{d x}  (\\frac{d v_1}{d x} - \\frac{d u_1}{d x}) dx + \\int_l^b \\alpha_2 \\frac{d u_2}{d x} (\\frac{d v_2}{d x} - \\frac{d u_2}{d x}) dx + p(\\theta(u))\\theta(v) −p(\\theta(u))\\theta(u) \\geq (f, v-u)_V \\quad \\forall v \\in K\n",
    "$$\n",
    "Assuming the spring is compressed, we have\n",
    "$$\n",
    "\\int_a^{-l} \\alpha_1 \\frac{d u_1}{d x}  (\\frac{d v_1}{d x} - \\frac{d u_1}{d x}) dx + \\int_l^b \\alpha_2 \\frac{d u_2}{d x} (\\frac{d v_2}{d x} - \\frac{d u_2}{d x}) dx + k_1(\\theta(u) − 2l)(\\theta(u) - \\theta(v)) \\geq (f, v-u)_V \\quad \\forall v \\in K\n",
    "$$\n",
    "\n",
    "Minimization problem\n",
    "$$\n",
    "\\underset{u \\in V}{min}: J(u) = \\frac{1}{2}(Au, u) + j(u) - (f,u)\n",
    "$$\n",
    "with\n",
    "$$\n",
    "\\begin{cases}\n",
    "(Au,v) = \\int_a^{-l} \\mathcal{F}_1(\\frac{du_1}{dx})\\frac{dv_1}{dx}dx + \\int_l^b \\mathcal{F}_2(\\frac{du_2}{dx})\\frac{dv_2}{dx}dx \\\\\n",
    "j(u) = -k_1 \\frac{(\\theta(u)-2l)^2}{2}\\\\\n",
    "(f, u) = \\int_a^{-l} f_1 u_1 dx + \\int_l^b f_2 u_2 dx\n",
    "\\end{cases}\n",
    "$$"
   ],
   "metadata": {
    "collapsed": false
   }
  },
  {
   "cell_type": "code",
   "execution_count": 1,
   "outputs": [],
   "source": [
    "from typing import Tuple, Callable, Union\n",
    "import numpy as np\n",
    "import matplotlib.pyplot as plt\n",
    "from scipy import optimize"
   ],
   "metadata": {
    "collapsed": false
   }
  },
  {
   "cell_type": "code",
   "execution_count": 2,
   "metadata": {
    "id": "9RcfqVF90YSB"
   },
   "outputs": [],
   "source": [
    "class SprintRodsSystemSetup:\n",
    "\n",
    "    def __init__(\n",
    "            self,\n",
    "            interval: Tuple[float, float],\n",
    "            spring_len: float,\n",
    "            nodes_num: int,\n",
    "            material_const: Tuple[float, float],\n",
    "            spring_const: Tuple[float, float],\n",
    "            body_forces: Callable[[np.ndarray], Union[np.ndarray, float]]\n",
    "    ):\n",
    "        self.left_end, self.right_end = interval\n",
    "        self.spring_len = spring_len\n",
    "        self.half_spring_len = spring_len / 2\n",
    "        self.nodes_num = nodes_num\n",
    "        self.body_forces = body_forces\n",
    "\n",
    "        self.left_domain = np.linspace(self.left_end, -self.half_spring_len, nodes_num)\n",
    "        self.right_domain = np.linspace(self.half_spring_len, self.right_end, nodes_num)\n",
    "        self.alphas = material_const\n",
    "        self.spring_const = spring_const\n",
    "\n",
    "    def __call__(self, displacements: np.ndarray):\n",
    "        return self.A(displacements) / 2 + self.j(displacements) - self.f(displacements)\n",
    "\n",
    "    def set_material_const(self, material_const: Tuple[float, float]):\n",
    "        self.alphas = material_const\n",
    "\n",
    "    def set_spring_const(self, spring_const: Tuple[float, float]):\n",
    "        self.spring_const = spring_const\n",
    "\n",
    "    def A(self, displacements: np.ndarray):\n",
    "        left_displ = displacements[:self.nodes_num]\n",
    "        right_displ = displacements[self.nodes_num:]\n",
    "\n",
    "        left = np.diff(left_displ) ** 2 / np.diff(self.left_domain)\n",
    "        right = np.diff(right_displ) ** 2 / np.diff(self.right_domain)\n",
    "\n",
    "        return self.alphas[0] * np.sum(left) + self.alphas[1] * np.sum(right)\n",
    "\n",
    "    def j(self, displacements: np.ndarray):\n",
    "        left_end_displ = displacements[self.nodes_num - 1]\n",
    "        right_end_displ = displacements[self.nodes_num]\n",
    "        const = self.spring_const[0 if right_end_displ - left_end_displ < 0 else 1]\n",
    "        return const * (right_end_displ - left_end_displ) ** 2 / 2\n",
    "\n",
    "    def f(self, displacements: np.ndarray):\n",
    "        fun_vals = self.compute_body_forces()\n",
    "\n",
    "        left_displ = displacements[:self.nodes_num]\n",
    "        right_displ = displacements[self.nodes_num:]\n",
    "\n",
    "        left = np.diff(self.left_domain) * (left_displ[1:] + left_displ[:-1]) / 2\n",
    "        right = np.diff(self.right_domain) * (right_displ[1:] + right_displ[:-1]) / 2\n",
    "\n",
    "        return np.sum(fun_vals * np.concatenate((left, right)))\n",
    "\n",
    "    def compute_body_forces(self):\n",
    "        left_centers = (self.left_domain[1:] + self.left_domain[:-1]) / 2\n",
    "        right_centers = (self.right_domain[1:] + self.right_domain[:-1]) / 2\n",
    "        centers = np.concatenate((left_centers, right_centers))\n",
    "        return self.body_forces(centers)"
   ]
  },
  {
   "cell_type": "code",
   "execution_count": 3,
   "outputs": [],
   "source": [
    "model = SprintRodsSystemSetup(\n",
    "    interval=(-1, 1),\n",
    "    spring_len=1,\n",
    "    nodes_num=10,\n",
    "    material_const=(1, 1),\n",
    "    spring_const=(1, 1),\n",
    "    body_forces=lambda x: 1.\n",
    ")"
   ],
   "metadata": {
    "collapsed": false
   }
  },
  {
   "cell_type": "code",
   "execution_count": 4,
   "outputs": [],
   "source": [
    "constraint = np.zeros(2 * model.nodes_num)\n",
    "constraint[model.nodes_num - 1] = 1\n",
    "constraint[model.nodes_num] = -1\n",
    "\n",
    "prevent_penetration = optimize.LinearConstraint(A=constraint, lb=-np.inf, ub=model.spring_len)"
   ],
   "metadata": {
    "collapsed": false
   }
  },
  {
   "cell_type": "code",
   "execution_count": 5,
   "outputs": [],
   "source": [
    "lower_bounds = np.full(2 * model.nodes_num, fill_value=-np.inf)\n",
    "lower_bounds[0] = 0\n",
    "lower_bounds[-1] = 0\n",
    "\n",
    "upper_bounds = np.full(2 * model.nodes_num, fill_value=np.inf)\n",
    "upper_bounds[0] = 0\n",
    "upper_bounds[-1] = 0\n",
    "\n",
    "dirichlet_boundaries = optimize.Bounds(lower_bounds, upper_bounds)"
   ],
   "metadata": {
    "collapsed": false
   }
  },
  {
   "cell_type": "code",
   "execution_count": 6,
   "outputs": [
    {
     "data": {
      "text/plain": "     fun: -0.04153806584323905\n     jac: array([-4.99998227e-01, -3.05473804e-07, -4.56348062e-08,  3.11993062e-07,\n        6.35161996e-07, -1.69035047e-07, -4.14904207e-07,  2.12341547e-07,\n        1.33179128e-07,  2.99420208e-07,  2.99885869e-07,  1.33644789e-07,\n        2.13272870e-07, -4.13507223e-07, -1.69500709e-07,  6.33299351e-07,\n        3.11061740e-07, -4.65661287e-08, -3.07336450e-07, -4.99998228e-01])\n message: 'Optimization terminated successfully.'\n    nfev: 236\n     nit: 10\n    njev: 10\n  status: 0\n success: True\n       x: array([0.        , 0.02623448, 0.04938257, 0.06944425, 0.08641952,\n       0.10030834, 0.11111077, 0.11882682, 0.12345645, 0.12499967,\n       0.12499967, 0.12345645, 0.11882682, 0.11111077, 0.10030834,\n       0.08641952, 0.06944425, 0.04938257, 0.02623448, 0.        ])"
     },
     "execution_count": 6,
     "metadata": {},
     "output_type": "execute_result"
    }
   ],
   "source": [
    "result = optimize.minimize(fun=model, x0=np.zeros(2 * model.nodes_num), constraints=prevent_penetration, bounds=dirichlet_boundaries)\n",
    "displacements = result.x\n",
    "\n",
    "assert result.success\n",
    "result"
   ],
   "metadata": {
    "collapsed": false
   }
  },
  {
   "cell_type": "code",
   "execution_count": 7,
   "outputs": [
    {
     "data": {
      "text/plain": "<matplotlib.collections.PathCollection at 0x7f546c3d16a0>"
     },
     "execution_count": 7,
     "metadata": {},
     "output_type": "execute_result"
    },
    {
     "data": {
      "text/plain": "<Figure size 720x72 with 1 Axes>",
      "image/png": "[encoded data removed]"
     },
     "metadata": {
      "needs_background": "light"
     },
     "output_type": "display_data"
    }
   ],
   "source": [
    "positions = np.concatenate((\n",
    "    model.left_end + model.left_domain,\n",
    "    model.half_spring_len + model.right_domain\n",
    "))\n",
    "\n",
    "fig = plt.gcf()\n",
    "fig.set_size_inches(10, 1)\n",
    "plt.ylim(-1.5, 0.5)\n",
    "plt.scatter(x=positions, y=np.zeros(2 * model.nodes_num))\n",
    "plt.scatter(x=positions + displacements, y=np.full(2 * model.nodes_num, fill_value=-1))"
   ],
   "metadata": {
    "collapsed": false
   }
  },
  {
   "cell_type": "code",
   "execution_count": 8,
   "outputs": [
    {
     "data": {
      "text/plain": "<matplotlib.quiver.Quiver at 0x7f546a2be8b0>"
     },
     "execution_count": 8,
     "metadata": {},
     "output_type": "execute_result"
    },
    {
     "data": {
      "text/plain": "<Figure size 720x72 with 1 Axes>",
      "image/png": "[encoded data removed]"
     },
     "metadata": {
      "needs_background": "light"
     },
     "output_type": "display_data"
    }
   ],
   "source": [
    "fig = plt.gcf()\n",
    "fig.set_size_inches(10, 1)\n",
    "plt.quiver(positions, np.zeros_like(positions), displacements, np.zeros_like(displacements), scale=6)"
   ],
   "metadata": {
    "collapsed": false
   }
  }
 ]
}
