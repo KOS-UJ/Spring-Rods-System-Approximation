{
 "cells": [
  {
   "cell_type": "code",
   "execution_count": 1,
   "metadata": {
    "collapsed": true
   },
   "outputs": [],
   "source": [
    "import numpy as np\n",
    "import matplotlib.pyplot as plt\n",
    "from matplotlib import cm, colors\n",
    "\n",
    "import seaborn as sns\n",
    "\n",
    "from spring_rods_system_setup import SpringRodsSystemSetup\n",
    "from spring_rods_system_solver import SpringRodsSystemSolver\n",
    "\n",
    "from utils.plot_utils import plot_displacements_and_stress"
   ]
  },
  {
   "cell_type": "code",
   "execution_count": 2,
   "outputs": [],
   "source": [
    "plt.rcParams.update({\n",
    "    'axes.grid': True,\n",
    "    'figure.facecolor': 'white',\n",
    "    'mathtext.default': 'regular'\n",
    "})"
   ],
   "metadata": {
    "collapsed": false
   }
  },
  {
   "cell_type": "code",
   "execution_count": 3,
   "outputs": [],
   "source": [
    "def prepare_body_force(experiment_idx: int, force: float):\n",
    "    if experiment_idx == 1:\n",
    "        return lambda x: np.where(x < 0, force, -force)\n",
    "    if experiment_idx == 2:\n",
    "        return lambda x: np.where(x < 0, -force, force)\n",
    "    if experiment_idx == 3:\n",
    "        return lambda x: np.where(x < 0, force, 0)\n",
    "    if experiment_idx == 4:\n",
    "        return lambda x: np.where(x < 0, -force, 0)\n",
    "    if experiment_idx == 5:\n",
    "        return lambda x: np.where(x < 0, force, force)"
   ],
   "metadata": {
    "collapsed": false
   }
  },
  {
   "cell_type": "code",
   "execution_count": 4,
   "outputs": [],
   "source": [
    "experiment_num = 5"
   ],
   "metadata": {
    "collapsed": false
   }
  },
  {
   "cell_type": "code",
   "execution_count": 5,
   "outputs": [],
   "source": [
    "model = SpringRodsSystemSetup(\n",
    "    interval=(-1, 1),\n",
    "    spring_len=1,\n",
    "    step_size=1/16,\n",
    "    material_const=(1, 1),\n",
    "    spring_const=(1, 1),\n",
    "    body_forces=lambda x: 0 # this will be overwritten by experiment setup\n",
    ")\n",
    "solver = SpringRodsSystemSolver(model)"
   ],
   "metadata": {
    "collapsed": false
   }
  },
  {
   "cell_type": "code",
   "execution_count": 6,
   "outputs": [],
   "source": [
    "forces_discrete = [0, 1, 2]"
   ],
   "metadata": {
    "collapsed": false
   }
  },
  {
   "cell_type": "code",
   "execution_count": 7,
   "outputs": [],
   "source": [
    "results = []\n",
    "\n",
    "for force_param in forces_discrete:\n",
    "    force_func = prepare_body_force(experiment_num, force_param)\n",
    "    model.set_body_forces(force_func)\n",
    "\n",
    "    displacements = solver(model)\n",
    "    stress = solver.compute_stresses(displacements)\n",
    "    results.append((displacements, stress))"
   ],
   "metadata": {
    "collapsed": false
   }
  },
  {
   "cell_type": "code",
   "execution_count": 8,
   "outputs": [
    {
     "data": {
      "text/plain": "<Figure size 432x216 with 2 Axes>",
      "image/png": "[encoded data removed]"
     },
     "metadata": {},
     "output_type": "display_data"
    }
   ],
   "source": [
    "plot_displacements_and_stress(\n",
    "    model,\n",
    "    results,\n",
    "    forces_discrete,\n",
    "    parameter_name='body forces',\n",
    "    limits=(-1, 1),\n",
    "    path=f'plots/force_dependence/experiment{experiment_num}_displ_and_stress.png'\n",
    ")"
   ],
   "metadata": {
    "collapsed": false
   }
  },
  {
   "cell_type": "code",
   "execution_count": 8,
   "outputs": [],
   "source": [],
   "metadata": {
    "collapsed": false
   }
  }
 ],
 "metadata": {
  "kernelspec": {
   "display_name": "Python 3",
   "language": "python",
   "name": "python3"
  },
  "language_info": {
   "codemirror_mode": {
    "name": "ipython",
    "version": 2
   },
   "file_extension": ".py",
   "mimetype": "text/x-python",
   "name": "python",
   "nbconvert_exporter": "python",
   "pygments_lexer": "ipython2",
   "version": "2.7.6"
  }
 },
 "nbformat": 4,
 "nbformat_minor": 0
}
