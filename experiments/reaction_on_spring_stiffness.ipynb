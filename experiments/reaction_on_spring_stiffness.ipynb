{
 "cells": [
  {
   "cell_type": "code",
   "execution_count": 1,
   "outputs": [],
   "source": [
    "import numpy as np\n",
    "import matplotlib.pyplot as plt\n",
    "\n",
    "from spring_rods_system_setup import SpringRodsSystemSetup\n",
    "from spring_rods_system_solver import SpringRodsSystemSolver\n",
    "\n",
    "from plot_utils import plot_displacements_and_stress"
   ],
   "metadata": {
    "collapsed": false
   }
  },
  {
   "cell_type": "code",
   "execution_count": 2,
   "outputs": [],
   "source": [
    "plt.rcParams.update({\n",
    "    'axes.grid': True,\n",
    "    'figure.facecolor': 'white',\n",
    "    'mathtext.default': 'regular'\n",
    "})"
   ],
   "metadata": {
    "collapsed": false
   }
  },
  {
   "cell_type": "code",
   "execution_count": 3,
   "outputs": [],
   "source": [
    "\n",
    "experiment_setups = [\n",
    "    {\n",
    "        'body_forces': lambda x: np.where(x < 0, 1, -1)\n",
    "    },\n",
    "    {\n",
    "        'body_forces': lambda x: np.where(x < 0, -1, 1)\n",
    "    },\n",
    "    {\n",
    "        'body_forces': lambda x: np.where(x < 0, 1, 0)\n",
    "    },\n",
    "    {\n",
    "        'body_forces': lambda x: np.where(x < 0, 0, -1)\n",
    "    },\n",
    "    {\n",
    "        'body_forces': lambda x: np.where(x < 0, 1, 1)\n",
    "    }\n",
    "]"
   ],
   "metadata": {
    "collapsed": false
   }
  },
  {
   "cell_type": "code",
   "execution_count": 4,
   "outputs": [],
   "source": [
    "experiment_number = 1"
   ],
   "metadata": {
    "collapsed": false
   }
  },
  {
   "cell_type": "code",
   "execution_count": 5,
   "metadata": {
    "collapsed": true
   },
   "outputs": [],
   "source": [
    "model = SpringRodsSystemSetup(\n",
    "    interval=(-1, 1),\n",
    "    spring_len=1,\n",
    "    nodes_num=10,\n",
    "    material_const=(1, 1),\n",
    "    spring_const=(1, 1),\n",
    "    **experiment_setups[experiment_number - 1]\n",
    ")\n",
    "solver = SpringRodsSystemSolver(model)"
   ]
  },
  {
   "cell_type": "code",
   "execution_count": 6,
   "outputs": [],
   "source": [
    "positions = np.concatenate((model.domain[0], model.domain[1]))"
   ],
   "metadata": {
    "collapsed": false
   }
  },
  {
   "cell_type": "code",
   "execution_count": 7,
   "outputs": [],
   "source": [
    "spring_const_spectrum = np.linspace(0.01, 100, 100)\n",
    "spring_const_discrete = [0.1, 1, 10, 100]"
   ],
   "metadata": {
    "collapsed": false
   }
  },
  {
   "cell_type": "code",
   "execution_count": 8,
   "outputs": [],
   "source": [
    "results = []\n",
    "\n",
    "for const in spring_const_discrete:\n",
    "    model.set_spring_const((const, const))\n",
    "    displacements = solver()\n",
    "\n",
    "    stresses = solver.compute_stresses(displacements)\n",
    "    results.append((displacements, stresses))"
   ],
   "metadata": {
    "collapsed": false
   }
  },
  {
   "cell_type": "code",
   "execution_count": 9,
   "outputs": [],
   "source": [
    "# TODO checking if in all test cases spring is compressed or extended\n",
    "# compressed = []\n",
    "# for res in results:\n",
    "#     displ = res[0]\n",
    "#     left_end_displ = displ[model.nodes_num - 1]\n",
    "#     right_end_displ = displ[model.nodes_num]\n",
    "#     compressed.append(left_end_displ - right_end_displ > 0)\n",
    "\n",
    "# if all(compressed):\n",
    "#     stiff_coef = '$k_1$'\n",
    "# elif not any(compressed):\n",
    "#     stiff_coef = '$k_2$'\n",
    "# else:\n",
    "#     print(compressed)\n",
    "#     print('lack of consistency')\n",
    "#     print()\n",
    "#     # raise Exception('lack of consistency')\n",
    "stiff_coef = 'k'"
   ],
   "metadata": {
    "collapsed": false
   }
  },
  {
   "cell_type": "code",
   "execution_count": 10,
   "outputs": [
    {
     "data": {
      "text/plain": "<Figure size 432x216 with 2 Axes>",
      "image/png": "[encoded data removed]"
     },
     "metadata": {},
     "output_type": "display_data"
    }
   ],
   "source": [
    "limits = (-0.5, 0.5)\n",
    "assert abs(np.min([v[1] for v in results])) < 0.5 and abs(np.max([v[1] for v in results])) < 0.5\n",
    "\n",
    "plot_displacements_and_stress(\n",
    "    model,\n",
    "    results,\n",
    "    spring_const_discrete,\n",
    "    parameter_name=f'spring stiffness ({stiff_coef})',\n",
    "    limits=limits,\n",
    "    path=f'./plots/spring_stiff_dependence/exp{experiment_number}_full.png'\n",
    ")"
   ],
   "metadata": {
    "collapsed": false
   }
  },
  {
   "cell_type": "code",
   "execution_count": 11,
   "outputs": [],
   "source": [
    "left_end_results = []\n",
    "right_end_results = []\n",
    "stress_results = []\n",
    "\n",
    "for idx, const in enumerate(spring_const_spectrum, 1):\n",
    "    model.set_spring_const((const, const))\n",
    "    displacements = solver()\n",
    "\n",
    "    left_end_results.append(displacements[model.nodes_num - 1])\n",
    "    right_end_results.append(displacements[model.nodes_num])\n",
    "\n",
    "    stress = solver.compute_stresses(displacements)\n",
    "    stress_results.append(stress)"
   ],
   "metadata": {
    "collapsed": false
   }
  },
  {
   "cell_type": "code",
   "execution_count": 12,
   "outputs": [
    {
     "data": {
      "text/plain": "<Figure size 432x216 with 1 Axes>",
      "image/png": "[encoded data removed]"
     },
     "metadata": {},
     "output_type": "display_data"
    }
   ],
   "source": [
    "fig = plt.gcf()\n",
    "fig.set_size_inches((6, 3))\n",
    "\n",
    "# TODO this is important for experiment 5\n",
    "if experiment_number == 5:\n",
    "    plt.ylim(-0.3, 0.3)\n",
    "\n",
    "plt.plot(left_end_results, label='end of left rod')\n",
    "plt.plot(right_end_results, label='end of right rod')\n",
    "\n",
    "plt.xlabel(f'spring stiffness ({stiff_coef})')\n",
    "plt.ylabel('displacement')\n",
    "plt.legend()\n",
    "\n",
    "plt.savefig(f'plots/exp{experiment_number}_ends_of_rods_displacement.png', bbox_inches='tight')"
   ],
   "metadata": {
    "collapsed": false
   }
  },
  {
   "cell_type": "code",
   "execution_count": 13,
   "outputs": [
    {
     "data": {
      "text/plain": "<Figure size 432x216 with 1 Axes>",
      "image/png": "[encoded data removed]"
     },
     "metadata": {},
     "output_type": "display_data"
    }
   ],
   "source": [
    "fig = plt.gcf()\n",
    "fig.set_size_inches((6, 3))\n",
    "\n",
    "avg_stress_left = [np.average(s[:model.nodes_num-1]) for s in stress_results]\n",
    "avg_stress_right = [np.average(s[model.nodes_num-1:]) for s in stress_results]\n",
    "plt.plot(avg_stress_left, label='left rod')\n",
    "plt.plot(avg_stress_right, label='right rod')\n",
    "plt.ylabel('average stress')\n",
    "plt.xlabel(f'spring stiffness ({stiff_coef})')\n",
    "plt.legend()\n",
    "plt.savefig(f'plots/exp{experiment_number}_avg_stress.png', bbox_inches='tight')\n"
   ],
   "metadata": {
    "collapsed": false
   }
  },
  {
   "cell_type": "code",
   "execution_count": 13,
   "outputs": [],
   "source": [],
   "metadata": {
    "collapsed": false
   }
  }
 ],
 "metadata": {
  "kernelspec": {
   "display_name": "Python 3",
   "language": "python",
   "name": "python3"
  },
  "language_info": {
   "codemirror_mode": {
    "name": "ipython",
    "version": 2
   },
   "file_extension": ".py",
   "mimetype": "text/x-python",
   "name": "python",
   "nbconvert_exporter": "python",
   "pygments_lexer": "ipython2",
   "version": "2.7.6"
  }
 },
 "nbformat": 4,
 "nbformat_minor": 0
}
