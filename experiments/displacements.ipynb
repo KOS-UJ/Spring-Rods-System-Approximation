{
 "cells": [
  {
   "cell_type": "code",
   "execution_count": 1,
   "metadata": {
    "collapsed": true
   },
   "outputs": [],
   "source": [
    "import numpy as np\n",
    "import matplotlib.pyplot as plt\n",
    "\n",
    "from spring_rods_system_setup import SpringRodsSystemSetup\n",
    "from spring_rods_system_solver import SpringRodsSystemSolver"
   ]
  },
  {
   "cell_type": "code",
   "execution_count": 2,
   "outputs": [],
   "source": [
    "plt.rcParams.update({\n",
    "    'axes.grid': True,\n",
    "    'figure.facecolor': 'white'\n",
    "})"
   ],
   "metadata": {
    "collapsed": false
   }
  },
  {
   "cell_type": "code",
   "execution_count": 3,
   "outputs": [],
   "source": [
    "model = SpringRodsSystemSetup(\n",
    "    interval=(-1, 1),\n",
    "    spring_len=1,\n",
    "    nodes_num=10,\n",
    "    material_const=(1, 1),\n",
    "    spring_const=(1, 1),\n",
    "    body_forces=lambda x: np.where(x < 0, 1, 0)\n",
    ")"
   ],
   "metadata": {
    "collapsed": false
   }
  },
  {
   "cell_type": "code",
   "execution_count": 4,
   "outputs": [],
   "source": [
    "solver = SpringRodsSystemSolver(model)"
   ],
   "metadata": {
    "collapsed": false
   }
  },
  {
   "cell_type": "code",
   "execution_count": 5,
   "outputs": [],
   "source": [
    "positions = np.concatenate((model.domain[0], model.domain[1]))"
   ],
   "metadata": {
    "collapsed": false
   }
  },
  {
   "cell_type": "code",
   "execution_count": 6,
   "outputs": [
    {
     "data": {
      "text/plain": "<Figure size 720x72 with 1 Axes>",
      "image/png": "[encoded data removed]"
     },
     "metadata": {},
     "output_type": "display_data"
    }
   ],
   "source": [
    "sprint_const = [(1, 1), (10, 1), (1, 10)]\n",
    "\n",
    "fig = plt.gcf()\n",
    "fig.set_size_inches(10, 1)\n",
    "plt.ylim(-len(sprint_const) - 0.5, 0.5)\n",
    "\n",
    "plt.scatter(x=positions, y=np.zeros(2 * model.nodes_num))\n",
    "\n",
    "for idx, const in enumerate(sprint_const, 1):\n",
    "    model.set_spring_const(const)\n",
    "    displacements = solver()\n",
    "    plt.scatter(x=positions + displacements, y=np.full(2 * model.nodes_num, fill_value=-idx))"
   ],
   "metadata": {
    "collapsed": false
   }
  },
  {
   "cell_type": "code",
   "execution_count": 7,
   "outputs": [
    {
     "data": {
      "text/plain": "<Figure size 720x72 with 1 Axes>",
      "image/png": "[encoded data removed]"
     },
     "metadata": {},
     "output_type": "display_data"
    }
   ],
   "source": [
    "material_const = [(1, 1), (10, 1), (1, 10)]\n",
    "\n",
    "fig = plt.gcf()\n",
    "fig.set_size_inches(10, 1)\n",
    "plt.ylim(-len(sprint_const) - 0.5, 0.5)\n",
    "\n",
    "plt.scatter(x=positions, y=np.zeros(2 * model.nodes_num))\n",
    "\n",
    "for idx, const in enumerate(material_const, 1):\n",
    "    model.set_material_const(const)\n",
    "    result = solver()\n",
    "    displacements = result\n",
    "    plt.scatter(x=positions + displacements, y=np.full(2 * model.nodes_num, fill_value=-idx))"
   ],
   "metadata": {
    "collapsed": false
   }
  },
  {
   "cell_type": "code",
   "execution_count": 7,
   "outputs": [],
   "source": [],
   "metadata": {
    "collapsed": false
   }
  }
 ],
 "metadata": {
  "kernelspec": {
   "display_name": "Python 3",
   "language": "python",
   "name": "python3"
  },
  "language_info": {
   "codemirror_mode": {
    "name": "ipython",
    "version": 2
   },
   "file_extension": ".py",
   "mimetype": "text/x-python",
   "name": "python",
   "nbconvert_exporter": "python",
   "pygments_lexer": "ipython2",
   "version": "2.7.6"
  }
 },
 "nbformat": 4,
 "nbformat_minor": 0
}
