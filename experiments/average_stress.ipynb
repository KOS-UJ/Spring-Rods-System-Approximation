{
 "cells": [
  {
   "cell_type": "code",
   "execution_count": 1,
   "metadata": {
    "collapsed": true
   },
   "outputs": [],
   "source": [
    "import numpy as np\n",
    "import matplotlib.pyplot as plt\n",
    "\n",
    "from spring_rods_system_setup import SpringRodsSystemSetup\n",
    "from spring_rods_system_solver import SpringRodsSystemSolver"
   ]
  },
  {
   "cell_type": "code",
   "execution_count": 2,
   "outputs": [],
   "source": [
    "plt.rcParams.update({\n",
    "    'axes.grid': True,\n",
    "    'figure.facecolor': 'white'\n",
    "})"
   ],
   "metadata": {
    "collapsed": false
   }
  },
  {
   "cell_type": "code",
   "execution_count": 3,
   "outputs": [],
   "source": [
    "model = SpringRodsSystemSetup(\n",
    "    interval=(-1, 1),\n",
    "    spring_len=1,\n",
    "    nodes_num=10,\n",
    "    material_const=(1, 1),\n",
    "    spring_const=(1, 1),\n",
    "    body_forces=lambda x: np.where(x < 0, 1, 0)\n",
    ")\n",
    "solver = SpringRodsSystemSolver(model)"
   ],
   "metadata": {
    "collapsed": false
   }
  },
  {
   "cell_type": "code",
   "execution_count": 4,
   "outputs": [],
   "source": [
    "def prepare_body_force(experiment_idx: int, force: float):\n",
    "    if experiment_idx == 1:\n",
    "        return lambda x: np.where(x < 0, force, -force)\n",
    "    if experiment_idx == 2:\n",
    "        return lambda x: np.where(x < 0, -force, force)\n",
    "    if experiment_idx == 3:\n",
    "        return lambda x: np.where(x < 0, force, 0)\n",
    "    if experiment_idx == 4:\n",
    "        return lambda x: np.where(x < 0, -force, 0)\n",
    "    if experiment_idx == 5:\n",
    "        return lambda x: np.where(x < 0, force, force)"
   ],
   "metadata": {
    "collapsed": false
   }
  },
  {
   "cell_type": "code",
   "execution_count": 5,
   "outputs": [],
   "source": [
    "experiment_num = 4"
   ],
   "metadata": {
    "collapsed": false
   }
  },
  {
   "cell_type": "code",
   "execution_count": 6,
   "outputs": [],
   "source": [
    "N, M = 40, 40\n",
    "sprint_const = np.array([(i, i) for i in np.linspace(0.01, 2, N)])\n",
    "body_forces = np.linspace(0, 2, M)\n",
    "\n",
    "avg_stress_results = np.empty((N, M))\n",
    "\n",
    "for m, force_param in enumerate(body_forces):\n",
    "    force_func = prepare_body_force(experiment_num, force_param)\n",
    "    for n, const in enumerate(sprint_const):\n",
    "        model.set_spring_const(const)\n",
    "        model.set_body_forces(force_func)\n",
    "        displacements = solver()\n",
    "\n",
    "        stress = solver.compute_stresses(displacements)\n",
    "        avg_stress = np.average(stress)\n",
    "        avg_stress_results[n, m] = avg_stress"
   ],
   "metadata": {
    "collapsed": false
   }
  },
  {
   "cell_type": "code",
   "execution_count": 7,
   "outputs": [
    {
     "name": "stderr",
     "output_type": "stream",
     "text": [
      "/tmp/ipykernel_15239/1673866270.py:15: MatplotlibDeprecationWarning: Auto-removal of grids by pcolor() and pcolormesh() is deprecated since 3.5 and will be removed two minor releases later; please call grid(False) first.\n",
      "  plt.colorbar(fraction=0.045)\n"
     ]
    },
    {
     "data": {
      "text/plain": "<matplotlib.colorbar.Colorbar at 0x7f9822c063a0>"
     },
     "execution_count": 7,
     "metadata": {},
     "output_type": "execute_result"
    },
    {
     "data": {
      "text/plain": "<Figure size 720x720 with 0 Axes>"
     },
     "metadata": {},
     "output_type": "display_data"
    },
    {
     "data": {
      "text/plain": "<Figure size 288x288 with 2 Axes>",
      "image/png": "[encoded data removed]"
     },
     "metadata": {},
     "output_type": "display_data"
    }
   ],
   "source": [
    "figure = plt.gcf()\n",
    "figure.set_size_inches(10, 10)\n",
    "\n",
    "plt.matshow(avg_stress_results, cmap='viridis', vmin=-0.5, vmax=0.5)\n",
    "\n",
    "x_ticks = np.linspace(0, M-1, 8, dtype=int)\n",
    "plt.xticks(x_ticks, (f'{x:.1f}' for x in body_forces[x_ticks]))\n",
    "y_ticks = np.linspace(0, N-1, 8, dtype=int)\n",
    "plt.yticks(y_ticks, [f'{s[0]:.2f}' for s in sprint_const[y_ticks]])\n",
    "\n",
    "plt.xlabel('force')\n",
    "plt.ylabel('spring stiffness')\n",
    "plt.title('Average stress in rods')\n",
    "\n",
    "plt.colorbar(fraction=0.045)"
   ],
   "metadata": {
    "collapsed": false
   }
  },
  {
   "cell_type": "code",
   "execution_count": 7,
   "outputs": [],
   "source": [],
   "metadata": {
    "collapsed": false
   }
  }
 ],
 "metadata": {
  "kernelspec": {
   "display_name": "Python 3",
   "language": "python",
   "name": "python3"
  },
  "language_info": {
   "codemirror_mode": {
    "name": "ipython",
    "version": 2
   },
   "file_extension": ".py",
   "mimetype": "text/x-python",
   "name": "python",
   "nbconvert_exporter": "python",
   "pygments_lexer": "ipython2",
   "version": "2.7.6"
  }
 },
 "nbformat": 4,
 "nbformat_minor": 0
}
